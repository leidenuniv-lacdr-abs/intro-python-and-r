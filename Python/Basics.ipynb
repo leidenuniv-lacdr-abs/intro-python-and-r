{
 "cells": [
  {
   "cell_type": "markdown",
   "metadata": {},
   "source": [
    "# Basic Python examples\n",
    "\n",
    "This notebook will show a few easy example for getting started with Python. This notebook and others are available on [GitHub](https://github.com/leidenuniv-lacdr-abs/intro-python-and-r) and can be used in the browser using Binder."
   ]
  },
  {
   "cell_type": "markdown",
   "metadata": {},
   "source": [
    "## Working with characters (text)\n",
    "this paragraph will introduce to you how to work with charaters/text, in Python referred to as [Strings](https://docs.python.org/3/library/stdtypes.html#string-methods)"
   ]
  },
  {
   "cell_type": "code",
   "execution_count": null,
   "metadata": {},
   "outputs": [],
   "source": [
    "print(\"Hello World!\") # it always starts simple!"
   ]
  },
  {
   "cell_type": "code",
   "execution_count": null,
   "metadata": {},
   "outputs": [],
   "source": [
    "print(\"Hello {}!\".format('World')) # the same output, but now using a template/placeholder"
   ]
  },
  {
   "cell_type": "code",
   "execution_count": null,
   "metadata": {},
   "outputs": [],
   "source": [
    "name = 'Lucas' # use quotes to show we are dealing with characters (String)\n",
    "print(\"Hello {}!\".format(name))"
   ]
  },
  {
   "cell_type": "code",
   "execution_count": null,
   "metadata": {},
   "outputs": [],
   "source": [
    "names = ['Lucas', 'George', 'Yoda'] # not 1 name, but a list of names using the ['',''] notation\n",
    "\n",
    "# now for each element in the list we print the sentance\n",
    "for name in names:\n",
    "    print(\"Hello {}!\".format(name))"
   ]
  },
  {
   "cell_type": "code",
   "execution_count": null,
   "metadata": {},
   "outputs": [],
   "source": [
    "# do some simple String manipulations\n",
    "my_name = 'George Lucas jr.'\n",
    "\n",
    "# change case\n",
    "print(\"My name is {}\".format(my_name))\n",
    "print(my_name.capitalize())\n",
    "print(my_name.upper())\n",
    "print(my_name.swapcase())\n",
    "print(my_name.lower())\n",
    "\n",
    "# noting changed to my_name! This is because we didn't save the return value of the methods to my_name\n",
    "print(\"My name is still {}\".format(my_name))\n",
    "\n",
    "# now lets change my_name by passing the output back to the variable my_name\n",
    "my_name = my_name.lower()\n",
    "print(\"My name is now {}\".format(my_name))"
   ]
  },
  {
   "cell_type": "code",
   "execution_count": null,
   "metadata": {},
   "outputs": [],
   "source": [
    "# more methods you can use on Strings\n",
    "my_name = 'Han Solo'\n",
    "\n",
    "# occurence of 'o' in my_name?\n",
    "print(my_name.count('o'))\n",
    "\n",
    "# split name parts\n",
    "print(my_name.split(' ')) # returns a list"
   ]
  },
  {
   "cell_type": "markdown",
   "metadata": {},
   "source": [
    "## Working with lists\n",
    "..."
   ]
  },
  {
   "cell_type": "code",
   "execution_count": null,
   "metadata": {},
   "outputs": [],
   "source": []
  }
 ],
 "metadata": {
  "kernelspec": {
   "display_name": "Python 3",
   "language": "python",
   "name": "python3"
  },
  "language_info": {
   "codemirror_mode": {
    "name": "ipython",
    "version": 3
   },
   "file_extension": ".py",
   "mimetype": "text/x-python",
   "name": "python",
   "nbconvert_exporter": "python",
   "pygments_lexer": "ipython3",
   "version": "3.7.0"
  }
 },
 "nbformat": 4,
 "nbformat_minor": 2
}
